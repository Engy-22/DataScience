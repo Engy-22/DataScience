{
 "cells": [
  {
   "cell_type": "code",
   "execution_count": 104,
   "metadata": {},
   "outputs": [],
   "source": [
    "from selenium import webdriver\n",
    "import time"
   ]
  },
  {
   "cell_type": "code",
   "execution_count": 133,
   "metadata": {},
   "outputs": [],
   "source": [
    "\"\"\"Setting up Chrome Webdriver for LA Galaxy game list url\"\"\"\n",
    "\n",
    "url ='https://www.stubhub.com/la-galaxy-tickets/performer/12587/'\n",
    "driver = webdriver.Chrome()\n",
    "driver.get(url)"
   ]
  },
  {
   "cell_type": "code",
   "execution_count": 134,
   "metadata": {},
   "outputs": [],
   "source": [
    "\"\"\"Checks to see if there is 'See more events' tab on bottom and if there is, click. If not, move on\"\"\"\n",
    "\n",
    "try:\n",
    "    more = driver.find_element_by_class_name('EventListPanel__Footer')\n",
    "    if more:\n",
    "        more.click()\n",
    "        time.sleep(2)\n",
    "except:\n",
    "    pass\n",
    "\n",
    "\n",
    "\"\"\"Getting all the Game links and Parking Pass links listed\"\"\"\n",
    "\n",
    "content = driver.find_elements_by_class_name('EventItem__Body')\n",
    "sites = []\n",
    "for each in content:\n",
    "    links = each.find_elements_by_class_name('EventItem__TitleLink')\n",
    "    for link in links:\n",
    "        sites.append(link.get_attribute('href'))"
   ]
  },
  {
   "cell_type": "code",
   "execution_count": 132,
   "metadata": {},
   "outputs": [
    {
     "ename": "AttributeError",
     "evalue": "'str' object has no attribute 'text'",
     "output_type": "error",
     "traceback": [
      "\u001b[0;31m---------------------------------------------------------------------------\u001b[0m",
      "\u001b[0;31mAttributeError\u001b[0m                            Traceback (most recent call last)",
      "\u001b[0;32m<ipython-input-132-ddad74919aff>\u001b[0m in \u001b[0;36m<module>\u001b[0;34m()\u001b[0m\n\u001b[1;32m     18\u001b[0m     \u001b[0mdate\u001b[0m \u001b[0;34m=\u001b[0m \u001b[0mnew_content\u001b[0m\u001b[0;34m.\u001b[0m\u001b[0mfind_element_by_class_name\u001b[0m\u001b[0;34m(\u001b[0m\u001b[0;34m'date-stamp-standard'\u001b[0m\u001b[0;34m)\u001b[0m\u001b[0;34m.\u001b[0m\u001b[0mget_attribute\u001b[0m\u001b[0;34m(\u001b[0m\u001b[0;34m\"innerText\"\u001b[0m\u001b[0;34m)\u001b[0m\u001b[0;34m.\u001b[0m\u001b[0msplit\u001b[0m\u001b[0;34m(\u001b[0m\u001b[0;34m)\u001b[0m\u001b[0;34m\u001b[0m\u001b[0m\n\u001b[1;32m     19\u001b[0m     \u001b[0mdateinfo\u001b[0m \u001b[0;34m=\u001b[0m \u001b[0;34m' '\u001b[0m\u001b[0;34m.\u001b[0m\u001b[0mjoin\u001b[0m\u001b[0;34m(\u001b[0m\u001b[0mdate\u001b[0m\u001b[0;34m)\u001b[0m\u001b[0;34m\u001b[0m\u001b[0m\n\u001b[0;32m---> 20\u001b[0;31m     \u001b[0mprint\u001b[0m\u001b[0;34m(\u001b[0m\u001b[0;34m'\\033[4m'\u001b[0m\u001b[0;34m,\u001b[0m\u001b[0mevent\u001b[0m\u001b[0;34m.\u001b[0m\u001b[0mtext\u001b[0m\u001b[0;34m,\u001b[0m\u001b[0;34m' for '\u001b[0m\u001b[0;34m,\u001b[0m\u001b[0mdateinfo\u001b[0m\u001b[0;34m,\u001b[0m\u001b[0;34m'\\033[0m'\u001b[0m\u001b[0;34m)\u001b[0m\u001b[0;34m\u001b[0m\u001b[0m\n\u001b[0m\u001b[1;32m     21\u001b[0m     \u001b[0;32mif\u001b[0m \u001b[0;32mnot\u001b[0m \u001b[0minfo\u001b[0m\u001b[0;34m:\u001b[0m\u001b[0;34m\u001b[0m\u001b[0m\n\u001b[1;32m     22\u001b[0m         \u001b[0mprint\u001b[0m\u001b[0;34m(\u001b[0m\u001b[0;34m'There are NO tickets for this'\u001b[0m\u001b[0;34m)\u001b[0m\u001b[0;34m\u001b[0m\u001b[0m\n",
      "\u001b[0;31mAttributeError\u001b[0m: 'str' object has no attribute 'text'"
     ]
    }
   ],
   "source": [
    "\"\"\"Looping through each link in the sites list by clicking on each link and switching to the new window for game tickets\"\"\"\n",
    "\n",
    "for each in range(0,len(sites)):\n",
    "    main_window = driver.current_window_handle\n",
    "    driver.execute_script('window.open(\"{}\",\"_blank\");'.format(sites[each]))\n",
    "    time.sleep(2)\n",
    "    driver.switch_to_window(driver.window_handles[-1])\n",
    "    time.sleep(2)\n",
    "    \n",
    "    \n",
    "    \"\"\"Scraping the game ticket window for ticket information\"\"\"\n",
    "    \n",
    "    new_content = driver.execute_script(\"return document.getElementsByTagName('html')[0]\")\n",
    "    time.sleep(2)\n",
    "    event = new_content.find_element_by_class_name('header').get_attribute(\"innerText\")\n",
    "\n",
    "    info = new_content.find_elements_by_class_name('ticket-container')\n",
    "    date = new_content.find_element_by_class_name('date-stamp-standard').get_attribute(\"innerText\").split()\n",
    "    dateinfo = ' '.join(date)\n",
    "    print('\\033[4m',event,' for ',dateinfo,'\\033[0m')\n",
    "    if not info:\n",
    "        print('There are NO tickets for this')\n",
    "    else:\n",
    "        for each in info:\n",
    "            sectioncell = each.find_element_by_class_name('sectioncell').get_attribute(\"innerText\")\n",
    "\n",
    "            rowcell = each.find_element_by_class_name('rowcell').get_attribute(\"innerText\")\n",
    "\n",
    "            pricecell = each.find_element_by_class_name('dollar-value').get_attribute(\"innerText\")\n",
    "\n",
    "            reach = each.find_element_by_class_name('priceEachText').get_attribute(\"innerText\")\n",
    "\n",
    "            tickets = each.find_element_by_class_name('ticketsText').get_attribute(\"innerText\")\n",
    "\n",
    "            delivery = each.find_element_by_class_name('delivery').get_attribute(\"innerText\")\n",
    "\n",
    "            print(sectioncell, rowcell, pricecell, reach, tickets, delivery)\n",
    "    print('--'*40)\n",
    "    print('\\n')\n",
    "\n",
    "    driver.close()\n",
    "    driver.switch_to_window(main_window)\n",
    "    "
   ]
  },
  {
   "cell_type": "code",
   "execution_count": null,
   "metadata": {},
   "outputs": [],
   "source": []
  }
 ],
 "metadata": {
  "kernelspec": {
   "display_name": "Python 3",
   "language": "python",
   "name": "python3"
  },
  "language_info": {
   "codemirror_mode": {
    "name": "ipython",
    "version": 3
   },
   "file_extension": ".py",
   "mimetype": "text/x-python",
   "name": "python",
   "nbconvert_exporter": "python",
   "pygments_lexer": "ipython3",
   "version": "3.6.1"
  }
 },
 "nbformat": 4,
 "nbformat_minor": 2
}
