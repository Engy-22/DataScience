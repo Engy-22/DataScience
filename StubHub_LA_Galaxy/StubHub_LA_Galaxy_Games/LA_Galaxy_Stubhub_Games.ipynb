{
 "cells": [
  {
   "cell_type": "code",
   "execution_count": 1,
   "metadata": {},
   "outputs": [],
   "source": [
    "from selenium import webdriver"
   ]
  },
  {
   "cell_type": "code",
   "execution_count": 7,
   "metadata": {},
   "outputs": [],
   "source": [
    "\"\"\"Setting up Chrome webdriver to use LA Galaxy game list url\"\"\"\n",
    "\n",
    "url ='https://www.stubhub.com/la-galaxy-tickets/performer/12587/'\n",
    "driver = webdriver.Chrome()\n",
    "driver.get(url)"
   ]
  },
  {
   "cell_type": "code",
   "execution_count": null,
   "metadata": {},
   "outputs": [],
   "source": [
    "\"\"\"If there is 'See More Events tab on bottom to show more games, click. Otherwise, continue\"\"\"\n",
    "try:\n",
    "    more = driver.find_element_by_class_name('EventListPanel__Footer')\n",
    "    if more:\n",
    "        more.click()\n",
    "except:\n",
    "    pass\n",
    "\n",
    "\"\"\"Collecting all the ticket page links for each game\"\"\"\n",
    "sites = []\n",
    "\n",
    "\n",
    "\"\"\"Scraping each game information and printing them out to screen\"\"\"\n",
    "\n",
    "content = driver.find_elements_by_class_name('EventItem__Body')\n",
    "\n",
    "for info in content:\n",
    "        \n",
    "    details = info.find_element_by_class_name('EventItem__Details')\n",
    "    day = info.find_element_by_class_name('DateStamp__Day').text\n",
    "    date = info.find_element_by_class_name('DateStamp__MonthDate').text\n",
    "    print('Day : ',day,' on Date : ',date)\n",
    "    gameinfo = details.find_element_by_tag_name('a')\n",
    "    print(gameinfo.text)\n",
    "    state = details.find_element_by_class_name('EventItem__MixInfo').text.split()\n",
    "    \n",
    "    \"\"\"If time is TBD (To be determined), which is basically all the Parking Pass tabs\"\"\"\n",
    "    if state[0] == 'TBD':\n",
    "        time = ' '.join(state[0:1])\n",
    "        city = ' '.join(state[6:])\n",
    "#         stadium =' '.join(state[3:6]).replace(',','')\n",
    "        venue = details.find_element_by_class_name('EventItem__VenueInfo').text\n",
    "        print('Time: ',time,' -',venue)\n",
    "#         print('Time: ',time,' at',stadium,',',city)\n",
    "    else:\n",
    "        time = ' '.join(state[0:2])\n",
    "        venue = details.find_element_by_class_name('EventItem__VenueInfo').text\n",
    "#         city = ' '.join(state[5:])\n",
    "#         stadium = ' '.join(state[3:5]).replace(',','')\n",
    "        print('Time: ',time,' at',venue)\n",
    "    \n",
    "    \"\"\"Show how much the ticket prices start from, and how many tickets are left if available\"\"\"\n",
    "    try:\n",
    "        tickets = details.find_element_by_class_name(\"EventItem__Price\").text\n",
    "        print('There are tickets available from: ',tickets)\n",
    "    except:\n",
    "        pass\n",
    "    try:\n",
    "        ticksleft = info.find_element_by_class_name(\"EventItem__Urgency\").text\n",
    "        if ticksleft:\n",
    "            print('There are ',ticksleft)\n",
    "    except:\n",
    "        pass\n",
    "    \n",
    "    \"\"\"Grab the links for each games that will take you to ticket purchase for each game. **Optional**\"\"\"\n",
    "    link = details.find_element_by_class_name('EventItem__TitleLink')\n",
    "    link_url = link.get_attribute('href')\n",
    "    print(link.get_attribute('href'))\n",
    "    sites.append(link_url)\n",
    "    print('\\n')\n",
    "    \n",
    "\n",
    "    \n",
    "\"\"\"Print out ticket links for each game **Optional**\"\"\"\n",
    "for each in sites:\n",
    "    print(each)\n",
    "    print('\\n')\n",
    "    "
   ]
  }
 ],
 "metadata": {
  "kernelspec": {
   "display_name": "Python 3",
   "language": "python",
   "name": "python3"
  },
  "language_info": {
   "codemirror_mode": {
    "name": "ipython",
    "version": 3
   },
   "file_extension": ".py",
   "mimetype": "text/x-python",
   "name": "python",
   "nbconvert_exporter": "python",
   "pygments_lexer": "ipython3",
   "version": "3.6.1"
  }
 },
 "nbformat": 4,
 "nbformat_minor": 2
}
